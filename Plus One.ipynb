{
 "cells": [
  {
   "cell_type": "code",
   "execution_count": null,
   "id": "af24502d-3a03-4d6b-a2c9-bce8997f61ef",
   "metadata": {},
   "outputs": [],
   "source": [
    "\"\"\"\n",
    "You are given a large integer represented as an integer array digits, where each digits[i] is the ith digit of the integer. The digits are ordered from most significant to least significant in left-to-right order. The large integer does not contain any leading 0's.\n",
    "\n",
    "Increment the large integer by one and return the resulting array of digits.\n",
    "Constraints:\n",
    "\n",
    "1 <= digits.length <= 100\n",
    "0 <= digits[i] <= 9\n",
    "digits does not contain any leading 0's.\n",
    "\"\"\""
   ]
  },
  {
   "cell_type": "code",
   "execution_count": 58,
   "id": "cd60f880-3dfd-4a8d-8863-a66a5ba8af57",
   "metadata": {},
   "outputs": [],
   "source": [
    "from typing import List\n",
    "def plusOne(digits: List[int]) -> List[int]:\n",
    "    number = int(str(digits).strip(\"[\").strip(\"]\").replace(\", \",\"\"))+1\n",
    "    str_numbers = []\n",
    "    for n in str(number):\n",
    "        str_numbers.append(int(n))\n",
    "    return str_numbers"
   ]
  },
  {
   "cell_type": "code",
   "execution_count": 59,
   "id": "a066220d-8cab-4a6f-b785-147421bee4f9",
   "metadata": {},
   "outputs": [],
   "source": [
    "#Test parameters\n",
    "digits = [9,9,9]"
   ]
  },
  {
   "cell_type": "code",
   "execution_count": 60,
   "id": "13ed4e3e-c820-4dda-a4db-0a40a648e840",
   "metadata": {},
   "outputs": [
    {
     "name": "stdout",
     "output_type": "stream",
     "text": [
      "The resulting array is [1, 0, 0, 0]\n"
     ]
    }
   ],
   "source": [
    "#Printing the results\n",
    "print(f\"The resulting array is {plusOne(digits)}\")"
   ]
  }
 ],
 "metadata": {
  "kernelspec": {
   "display_name": "Python 3 (ipykernel)",
   "language": "python",
   "name": "python3"
  },
  "language_info": {
   "codemirror_mode": {
    "name": "ipython",
    "version": 3
   },
   "file_extension": ".py",
   "mimetype": "text/x-python",
   "name": "python",
   "nbconvert_exporter": "python",
   "pygments_lexer": "ipython3",
   "version": "3.8.18"
  }
 },
 "nbformat": 4,
 "nbformat_minor": 5
}
