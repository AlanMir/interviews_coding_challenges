{
 "cells": [
  {
   "cell_type": "code",
   "execution_count": null,
   "id": "24ce16a6-67ff-4cdf-9771-aefcd1e0bdba",
   "metadata": {},
   "outputs": [],
   "source": [
    "\"\"\"\n",
    "Given a string s consisting of words and spaces, return the length of the last word in the string.\n",
    "\n",
    "A word is a maximal \n",
    "substring\n",
    " consisting of non-space characters only.\n",
    " Constraints:\n",
    "\n",
    "1 <= s.length <= 104\n",
    "s consists of only English letters and spaces ' '.\n",
    "There will be at least one word in s.\n",
    "\"\"\""
   ]
  },
  {
   "cell_type": "code",
   "execution_count": 7,
   "id": "343674c7-04a1-44f1-98b1-d56be9207b13",
   "metadata": {},
   "outputs": [],
   "source": [
    "def lengthOfLastWord(s: str) -> int:\n",
    "    k = len(s.strip().split(\" \")[-1])\n",
    "    return k"
   ]
  },
  {
   "cell_type": "code",
   "execution_count": 1,
   "id": "2a74d96f-9192-47e9-93fb-e330d2756701",
   "metadata": {},
   "outputs": [],
   "source": [
    "#Test parameters\n",
    "s = \"   fly me   to   the moon  \""
   ]
  },
  {
   "cell_type": "code",
   "execution_count": 10,
   "id": "08bf91b6-8315-4dcb-be8c-79d51e196536",
   "metadata": {},
   "outputs": [
    {
     "name": "stdout",
     "output_type": "stream",
     "text": [
      "The length of the last word is: 4\n"
     ]
    }
   ],
   "source": [
    "#Print the results\n",
    "print(f\"The length of the last word is: {lengthOfLastWord(s)}\")"
   ]
  }
 ],
 "metadata": {
  "kernelspec": {
   "display_name": "Python 3 (ipykernel)",
   "language": "python",
   "name": "python3"
  },
  "language_info": {
   "codemirror_mode": {
    "name": "ipython",
    "version": 3
   },
   "file_extension": ".py",
   "mimetype": "text/x-python",
   "name": "python",
   "nbconvert_exporter": "python",
   "pygments_lexer": "ipython3",
   "version": "3.8.18"
  }
 },
 "nbformat": 4,
 "nbformat_minor": 5
}
