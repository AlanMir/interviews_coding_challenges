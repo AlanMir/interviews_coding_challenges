{
 "cells": [
  {
   "cell_type": "code",
   "execution_count": null,
   "id": "92ceadf7-5834-4e99-994f-b33427ca41b8",
   "metadata": {},
   "outputs": [],
   "source": [
    "\"\"\"\n",
    "You are given two integer arrays nums1 and nums2, sorted in non-decreasing order, and two integers m and n, representing the number of elements in nums1 and nums2 respectively.\n",
    "\n",
    "Merge nums1 and nums2 into a single array sorted in non-decreasing order.\n",
    "\n",
    "The final sorted array should not be returned by the function, but instead be stored inside the array nums1. To accommodate this, nums1 has a length of m + n, where the first m elements denote the elements that should be merged, and the last n elements are set to 0 and should be ignored. nums2 has a length of n.\n",
    "Constraints:\n",
    "\n",
    "nums1.length == m + n\n",
    "nums2.length == n\n",
    "0 <= m, n <= 200\n",
    "1 <= m + n <= 200\n",
    "-109 <= nums1[i], nums2[j] <= 109\n",
    "\"\"\""
   ]
  },
  {
   "cell_type": "code",
   "execution_count": 53,
   "id": "90e49a94-b0aa-415d-8850-1599ac0e55ae",
   "metadata": {},
   "outputs": [],
   "source": [
    "\"\"\"\n",
    "This solution beats 99% in memory and 98% in runtime in Leetcode\n",
    "https://leetcode.com/problems/merge-sorted-array/submissions/1278900107/\n",
    "\"\"\"\n",
    "from typing import List\n",
    "class Solution:  \n",
    "    def merge(self, nums1: List[int], m: int, nums2: List[int], n: int) -> None:\n",
    "        \"\"\"\n",
    "        Do not return anything, modify nums1 in-place instead.\n",
    "        \"\"\"\n",
    "        for i in range(m,len(nums1)):\n",
    "            nums1.insert(i,nums2[i-m])\n",
    "        for i in range(m+n,len(nums1)):\n",
    "            nums1.pop()\n",
    "        nums1.sort()\n",
    "        return nums1"
   ]
  },
  {
   "cell_type": "code",
   "execution_count": 54,
   "id": "8901bd8a-e4d4-4676-aef6-55911499f50c",
   "metadata": {},
   "outputs": [],
   "source": [
    "#Test Parameters\n",
    "nums1 = [1,2,3,0,0,0]\n",
    "m = 3\n",
    "nums2 = [2,5,6]\n",
    "n = 3"
   ]
  },
  {
   "cell_type": "code",
   "execution_count": 55,
   "id": "e7dde15a-4506-49b3-9ef0-2edbc55f311a",
   "metadata": {},
   "outputs": [
    {
     "name": "stdout",
     "output_type": "stream",
     "text": [
      "The resulting array is: [1, 2, 2, 3, 5, 6]\n"
     ]
    }
   ],
   "source": [
    "#Print the results\n",
    "print(f\"The resulting array is: {Solution().merge(nums1, m, nums2, n)}\")"
   ]
  }
 ],
 "metadata": {
  "kernelspec": {
   "display_name": "Python 3 (ipykernel)",
   "language": "python",
   "name": "python3"
  },
  "language_info": {
   "codemirror_mode": {
    "name": "ipython",
    "version": 3
   },
   "file_extension": ".py",
   "mimetype": "text/x-python",
   "name": "python",
   "nbconvert_exporter": "python",
   "pygments_lexer": "ipython3",
   "version": "3.8.18"
  }
 },
 "nbformat": 4,
 "nbformat_minor": 5
}
