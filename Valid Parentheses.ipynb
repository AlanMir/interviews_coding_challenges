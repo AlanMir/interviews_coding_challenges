{
 "cells": [
  {
   "cell_type": "code",
   "execution_count": null,
   "id": "936df323-93b0-4905-9c37-69822c0f2b92",
   "metadata": {},
   "outputs": [],
   "source": [
    "\"\"\"\n",
    "Given a string s containing just the characters '(', ')', '{', '}', '[' and ']', determine if the input string is valid.\n",
    "\n",
    "An input string is valid if:\n",
    "\n",
    "Open brackets must be closed by the same type of brackets.\n",
    "Open brackets must be closed in the correct order.\n",
    "Every close bracket has a corresponding open bracket of the same type.\n",
    "\n",
    "Constraints:\n",
    "\n",
    "1 <= s.length <= 104\n",
    "s consists of parentheses only '()[]{}'.\n",
    "\"\"\""
   ]
  },
  {
   "cell_type": "code",
   "execution_count": 23,
   "id": "28bb0b96-2362-4ab6-9580-7d9aca6302f9",
   "metadata": {},
   "outputs": [],
   "source": [
    "import re\n",
    "def isValid(s: str) -> bool:\n",
    "    pattern = r'\\(\\)|\\[\\]|\\{\\}'\n",
    "    replacement = ''\n",
    "    middle = len(s)//2\n",
    "    for i in range(middle):\n",
    "        new_s = re.sub(pattern,replacement,s)\n",
    "        s=new_s\n",
    "    if len(s) != 0:\n",
    "        return False\n",
    "    return True"
   ]
  },
  {
   "cell_type": "code",
   "execution_count": 28,
   "id": "c02d7359-a158-4102-aa9f-71b46b8436e9",
   "metadata": {},
   "outputs": [],
   "source": [
    "s = \"()[]{}(][)\""
   ]
  },
  {
   "cell_type": "code",
   "execution_count": 29,
   "id": "9cad8049-7405-4923-afae-2fda8b505c27",
   "metadata": {},
   "outputs": [
    {
     "name": "stdout",
     "output_type": "stream",
     "text": [
      "False\n"
     ]
    }
   ],
   "source": [
    "print(isValid(s))"
   ]
  },
  {
   "cell_type": "code",
   "execution_count": 16,
   "id": "323c6cbb-162a-48cb-a33a-b104bb71db87",
   "metadata": {},
   "outputs": [
    {
     "name": "stdout",
     "output_type": "stream",
     "text": [
      "55\n"
     ]
    }
   ],
   "source": []
  }
 ],
 "metadata": {
  "kernelspec": {
   "display_name": "Python 3 (ipykernel)",
   "language": "python",
   "name": "python3"
  },
  "language_info": {
   "codemirror_mode": {
    "name": "ipython",
    "version": 3
   },
   "file_extension": ".py",
   "mimetype": "text/x-python",
   "name": "python",
   "nbconvert_exporter": "python",
   "pygments_lexer": "ipython3",
   "version": "3.8.18"
  }
 },
 "nbformat": 4,
 "nbformat_minor": 5
}
