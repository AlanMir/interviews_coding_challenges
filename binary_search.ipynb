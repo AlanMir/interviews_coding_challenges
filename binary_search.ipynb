{
 "cells": [
  {
   "cell_type": "code",
   "execution_count": 103,
   "id": "b89a733d-c69d-4073-98c3-7f4c050e5cd7",
   "metadata": {},
   "outputs": [],
   "source": []
  },
  {
   "cell_type": "code",
   "execution_count": 108,
   "id": "4537534e-16ab-4dc7-9c66-c6e2508ea3c6",
   "metadata": {},
   "outputs": [],
   "source": [
    "\n",
    "#Contraint: it is guaranteed that x belongs to list\n",
    "def binary_search(lst:List[int], x:int)->int:\n",
    "    #Define left, right and middle points\n",
    "    left = 0\n",
    "    right = len(lst)\n",
    "    middle = (right+left)//2\n",
    "    while left < right: \n",
    "        #while the far left index is lower than the far right index\n",
    "        if x > lst[middle]:\n",
    "            # if the provided number is grater than the number in the middle of the list\n",
    "            left = middle \n",
    "            #update left side to be equal to the previous middle\n",
    "            middle = (right+left)//2 \n",
    "            #and middle side with the new value of the left side\n",
    "        elif x < lst[middle]:\n",
    "            # if the provided number is lower than the number in the middle of the list\n",
    "            right = middle\n",
    "            #update right side to be equal to the previous middle\n",
    "            middle = (right+left)//2 \n",
    "            #and middle side with the new value of the right side\n",
    "        else:\n",
    "            return middle #return middle if the value of x equals lst[middle]\n",
    "            "
   ]
  },
  {
   "cell_type": "code",
   "execution_count": 109,
   "id": "127ac412-39d5-4d9d-8069-cc418b8e012c",
   "metadata": {},
   "outputs": [],
   "source": [
    "#Test list and number\n",
    "lst = [10,20,30,40,50,60,70,80,90,100]\n",
    "x = 100"
   ]
  },
  {
   "cell_type": "code",
   "execution_count": 110,
   "id": "9359d050-7528-45cc-94c4-ec65a97dc3d8",
   "metadata": {},
   "outputs": [
    {
     "name": "stdout",
     "output_type": "stream",
     "text": [
      "The position of 100 is 9\n"
     ]
    }
   ],
   "source": [
    "#Print the results\n",
    "print(f\"The position of {x} is\",binary_search(lst,x))"
   ]
  }
 ],
 "metadata": {
  "kernelspec": {
   "display_name": "Python 3 (ipykernel)",
   "language": "python",
   "name": "python3"
  },
  "language_info": {
   "codemirror_mode": {
    "name": "ipython",
    "version": 3
   },
   "file_extension": ".py",
   "mimetype": "text/x-python",
   "name": "python",
   "nbconvert_exporter": "python",
   "pygments_lexer": "ipython3",
   "version": "3.8.18"
  }
 },
 "nbformat": 4,
 "nbformat_minor": 5
}
