{
 "cells": [
  {
   "cell_type": "code",
   "execution_count": 34,
   "id": "72a60c60-9162-461e-a8e8-a23dc30b97bb",
   "metadata": {},
   "outputs": [],
   "source": [
    "#Rules:\n",
    "#Get the sum of a list of numbers obtained by following the next rules\n",
    "#1. If a number is provided, it is added to the list\n",
    "#2. If a D is provided, it doubles the previous number\n",
    "#3. If a C is provided, it deletes the previous number\n",
    "#4. If a + is provided, it adds up the two previous numbers\n",
    "#Constraints: \n",
    "#It is guaranteed that there will always be a number before a D and a C\n",
    "#It is guaranteed that there always be two numbers before the +\n",
    "\n",
    "def get_sum(provided_list):\n",
    "    transformed_list = []\n",
    "    for i in range(len(provided_list)):\n",
    "        if str(provided_list[i]).isnumeric():\n",
    "            transformed_list.append(provided_list[i])\n",
    "        elif provided_list[i]==\"D\":\n",
    "            transformed_list.append(transformed_list[-1]*2)\n",
    "        elif provided_list[i]==\"C\":\n",
    "            transformed_list.remove(transformed_list[-1])\n",
    "        elif provided_list[i]==\"+\": \n",
    "            transformed_list.append((transformed_list[-1]+transformed_list[-2]))\n",
    "    sum_value = sum(transformed_list)\n",
    "    return sum_value"
   ]
  },
  {
   "cell_type": "code",
   "execution_count": 37,
   "id": "22b35235-136d-4b69-90b0-7453cdca937d",
   "metadata": {},
   "outputs": [],
   "source": [
    "#Test list\n",
    "test_list = [5,'k',10,'D','+','C','o','C']"
   ]
  },
  {
   "cell_type": "code",
   "execution_count": 40,
   "id": "17339bb7-445f-4423-9a1a-f735fa7897b2",
   "metadata": {},
   "outputs": [
    {
     "name": "stdout",
     "output_type": "stream",
     "text": [
      "The resulting score is  15\n"
     ]
    }
   ],
   "source": [
    "#Print the result\n",
    "print(\"The resulting score is \",get_sum(test_list))"
   ]
  }
 ],
 "metadata": {
  "kernelspec": {
   "display_name": "Python 3 (ipykernel)",
   "language": "python",
   "name": "python3"
  },
  "language_info": {
   "codemirror_mode": {
    "name": "ipython",
    "version": 3
   },
   "file_extension": ".py",
   "mimetype": "text/x-python",
   "name": "python",
   "nbconvert_exporter": "python",
   "pygments_lexer": "ipython3",
   "version": "3.8.18"
  }
 },
 "nbformat": 4,
 "nbformat_minor": 5
}
