{
 "cells": [
  {
   "cell_type": "code",
   "execution_count": null,
   "id": "ae76819a-37f5-42d1-917a-d0fae011e97f",
   "metadata": {},
   "outputs": [],
   "source": [
    "#Find the longest sequence of alternating 0 and 1\n",
    "#It is guaranteed only 0 and 1 in the string"
   ]
  },
  {
   "cell_type": "code",
   "execution_count": 13,
   "id": "7344f545-57c9-40d2-a16e-c7f75f592940",
   "metadata": {},
   "outputs": [],
   "source": [
    "def seq_finder(X:str)->int:\n",
    "    #Initialize known entities\n",
    "    previous = \"\"\n",
    "    max_count = 0\n",
    "    counter = 0\n",
    "    count = 0\n",
    "    #Iterate through the sequence\n",
    "    for x in X:\n",
    "        if x != previous:#compare current value vs previous value. If different, do the following:\n",
    "            counter+=1#update counter\n",
    "            previous = x#update previous value\n",
    "            if counter>max_count:\n",
    "                max_count = counter#if counter is grater than the max_count, update max_count\n",
    "        else:#If not different, do the following:\n",
    "            counter = 0#reset counter\n",
    "            previous = x#update previous value\n",
    "            #this will return 1 for the always repeating chain 00000 or 11111. It will be handled next\n",
    "    \n",
    "    #This will handle the ever-repeating chain\n",
    "    if len(X)>1 and max_count == 1:#compare max_count vs length of the string. If the length is greater than 1, the max_count cannot be 1.\n",
    "        count = count#count remains as 0 if max_count = 1 and length of X > 1\n",
    "    else:\n",
    "        count = max_count #otherwise, count is set to the value of max_count\n",
    "        \n",
    "    return count"
   ]
  },
  {
   "cell_type": "code",
   "execution_count": 14,
   "id": "23e4bcfa-61de-4415-8707-9e1b668cc196",
   "metadata": {},
   "outputs": [],
   "source": [
    "#Test string\n",
    "test = \"0100001101\""
   ]
  },
  {
   "cell_type": "code",
   "execution_count": 16,
   "id": "5b85f578-8ce4-4ffa-809c-66828c208cda",
   "metadata": {},
   "outputs": [
    {
     "name": "stdout",
     "output_type": "stream",
     "text": [
      "The longest sunsequence is  3\n"
     ]
    }
   ],
   "source": [
    "#Print results\n",
    "print(\"The longest subsequence is \",seq_finder(test))"
   ]
  }
 ],
 "metadata": {
  "kernelspec": {
   "display_name": "Python 3 (ipykernel)",
   "language": "python",
   "name": "python3"
  },
  "language_info": {
   "codemirror_mode": {
    "name": "ipython",
    "version": 3
   },
   "file_extension": ".py",
   "mimetype": "text/x-python",
   "name": "python",
   "nbconvert_exporter": "python",
   "pygments_lexer": "ipython3",
   "version": "3.8.18"
  }
 },
 "nbformat": 4,
 "nbformat_minor": 5
}
