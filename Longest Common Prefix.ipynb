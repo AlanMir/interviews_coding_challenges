{
 "cells": [
  {
   "cell_type": "code",
   "execution_count": null,
   "id": "680610f6-7904-4082-a164-64ffe37e626c",
   "metadata": {},
   "outputs": [],
   "source": [
    "\"\"\"\n",
    "Write a function to find the longest common prefix string amongst an array of strings.\n",
    "\n",
    "If there is no common prefix, return an empty string \"\".\n",
    "Constraints:\n",
    "\n",
    "1 <= strs.length <= 200\n",
    "0 <= strs[i].length <= 200\n",
    "strs[i] consists of only lowercase English letters.\n",
    "\"\"\""
   ]
  },
  {
   "cell_type": "code",
   "execution_count": 45,
   "id": "238ae441-47ba-486f-88d7-31f6016c87f5",
   "metadata": {},
   "outputs": [],
   "source": [
    "from typing import List\n",
    "def longestCommonPrefix(strs: List[str]) -> str:\n",
    "    prefix = ''\n",
    "    for s in zip(*strs):\n",
    "        if all(x==s[0] for x in s):\n",
    "            prefix = prefix+s[0]\n",
    "        else:\n",
    "            break\n",
    "    return prefix"
   ]
  },
  {
   "cell_type": "code",
   "execution_count": 46,
   "id": "b460f5d7-acac-4fc7-a7d6-51f57fa056a2",
   "metadata": {},
   "outputs": [],
   "source": [
    "#Test parameters\n",
    "strs = [\"cir\",\"car\",\"cur\"]"
   ]
  },
  {
   "cell_type": "code",
   "execution_count": 49,
   "id": "631bb9a4-2e65-4390-96e6-0bdf00283fc7",
   "metadata": {},
   "outputs": [
    {
     "name": "stdout",
     "output_type": "stream",
     "text": [
      "The longest common prefix for the given list of words is: c\n"
     ]
    }
   ],
   "source": [
    "#Print the result\n",
    "print(f\"The longest common prefix for the given list of words is: {longestCommonPrefix(strs)}\")"
   ]
  }
 ],
 "metadata": {
  "kernelspec": {
   "display_name": "Python 3 (ipykernel)",
   "language": "python",
   "name": "python3"
  },
  "language_info": {
   "codemirror_mode": {
    "name": "ipython",
    "version": 3
   },
   "file_extension": ".py",
   "mimetype": "text/x-python",
   "name": "python",
   "nbconvert_exporter": "python",
   "pygments_lexer": "ipython3",
   "version": "3.8.18"
  }
 },
 "nbformat": 4,
 "nbformat_minor": 5
}
