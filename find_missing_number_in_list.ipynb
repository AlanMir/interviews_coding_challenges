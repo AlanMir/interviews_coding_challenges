{
 "cells": [
  {
   "cell_type": "code",
   "execution_count": 13,
   "id": "67ffe7ea-8762-4204-85eb-b5917e45a185",
   "metadata": {},
   "outputs": [],
   "source": [
    "#Find the missing number in a list.\n",
    "#Constraints: non-negative numbers. All consecutive numbers.\n",
    "def find_missing_number(list_of_numbers):\n",
    "    #Create a list of the same length of the provided list\n",
    "    complete_list = []\n",
    "    missing_number = None\n",
    "    for i in range(len(list_of_numbers)+1):\n",
    "        complete_list.append(i)\n",
    "    for number in complete_list:\n",
    "        if number in list_of_numbers:\n",
    "            missing_number = missing_number\n",
    "        else:\n",
    "            missing_number = number\n",
    "    return missing_number"
   ]
  },
  {
   "cell_type": "code",
   "execution_count": 16,
   "id": "c4d15818-206b-4b7e-aa11-386b6f26dce0",
   "metadata": {},
   "outputs": [],
   "source": [
    "#Test list\n",
    "test = [0,1]"
   ]
  },
  {
   "cell_type": "code",
   "execution_count": 17,
   "id": "9d4ebf02-10cf-47b2-adb6-cf65902d8ce8",
   "metadata": {},
   "outputs": [
    {
     "data": {
      "text/plain": [
       "2"
      ]
     },
     "execution_count": 17,
     "metadata": {},
     "output_type": "execute_result"
    }
   ],
   "source": [
    "#Print results\n",
    "print(\"The missing number is "
   ]
  }
 ],
 "metadata": {
  "kernelspec": {
   "display_name": "Python 3 (ipykernel)",
   "language": "python",
   "name": "python3"
  },
  "language_info": {
   "codemirror_mode": {
    "name": "ipython",
    "version": 3
   },
   "file_extension": ".py",
   "mimetype": "text/x-python",
   "name": "python",
   "nbconvert_exporter": "python",
   "pygments_lexer": "ipython3",
   "version": "3.8.18"
  }
 },
 "nbformat": 4,
 "nbformat_minor": 5
}
