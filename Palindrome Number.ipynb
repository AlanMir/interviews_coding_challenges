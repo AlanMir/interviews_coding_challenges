{
 "cells": [
  {
   "cell_type": "code",
   "execution_count": null,
   "id": "665db1ae-71cc-42f3-9aaa-83385358cc3a",
   "metadata": {},
   "outputs": [],
   "source": [
    "\"\"\"\n",
    "Given an integer x, return true if x is a \n",
    "palindrome\n",
    ", and false otherwise.\n",
    "\"\"\""
   ]
  },
  {
   "cell_type": "code",
   "execution_count": 30,
   "id": "61e44eb3-1c78-4811-aa85-b1b50c0ffc33",
   "metadata": {},
   "outputs": [],
   "source": [
    "def isPalindrome(x: int) -> bool:\n",
    "    s=str(x)\n",
    "    s_inv = s[-1:-len(s)-2:-1]\n",
    "    if s == s_inv:\n",
    "        return True\n",
    "    return False"
   ]
  },
  {
   "cell_type": "code",
   "execution_count": 31,
   "id": "539ac8c4-24f8-4fee-988a-4dffa2c1c4cf",
   "metadata": {},
   "outputs": [],
   "source": [
    "#Test parameters\n",
    "x=-121"
   ]
  },
  {
   "cell_type": "code",
   "execution_count": 32,
   "id": "c9925437-b9b6-4e2f-9cd9-3981d8975a60",
   "metadata": {},
   "outputs": [
    {
     "name": "stdout",
     "output_type": "stream",
     "text": [
      "-121 is not palindrome\n"
     ]
    }
   ],
   "source": [
    "if isPalindrome(x)==True:\n",
    "    print(f\"{x} is palindrome\")\n",
    "else:\n",
    "    print(f\"{x} is not palindrome\")"
   ]
  }
 ],
 "metadata": {
  "kernelspec": {
   "display_name": "Python 3 (ipykernel)",
   "language": "python",
   "name": "python3"
  },
  "language_info": {
   "codemirror_mode": {
    "name": "ipython",
    "version": 3
   },
   "file_extension": ".py",
   "mimetype": "text/x-python",
   "name": "python",
   "nbconvert_exporter": "python",
   "pygments_lexer": "ipython3",
   "version": "3.8.18"
  }
 },
 "nbformat": 4,
 "nbformat_minor": 5
}
