{
 "cells": [
  {
   "cell_type": "code",
   "execution_count": null,
   "id": "b4158b91-b054-4e68-8395-1b676174491c",
   "metadata": {},
   "outputs": [],
   "source": [
    "\"\"\"\n",
    "You are climbing a staircase. It takes n steps to reach the top.\n",
    "\n",
    "Each time you can either climb 1 or 2 steps. In how many distinct ways can you climb to the top?\n",
    "\n",
    "Constraints:\n",
    "\n",
    "1 <= n <= 45\n",
    "\"\"\""
   ]
  },
  {
   "cell_type": "code",
   "execution_count": 23,
   "id": "8bf02093-80d8-4dcb-8286-dc3b0323876a",
   "metadata": {},
   "outputs": [],
   "source": [
    "class Solution:\n",
    "    def __init__(self):\n",
    "        self.memo = {}#Initialize a new dictionary to store the results\n",
    "    def climbStairs(self, n: int) -> int:\n",
    "        if n in self.memo:\n",
    "            return self.memo[n]#Return the values for n if already stored\n",
    "        if n == 1 or n == 2:#Otherwise return the values for n == 1 or n == 2\n",
    "            return n\n",
    "        self.memo[n] = self.climbStairs(n-1) + self.climbStairs(n-2) #Otherwise call the recursion and store the values in the created dictionary.\n",
    "        #This step will avoid recalculations\n",
    "        return self.memo[n]"
   ]
  },
  {
   "cell_type": "code",
   "execution_count": 24,
   "id": "943dc765-d0ca-4743-8ef0-fe8d5c217491",
   "metadata": {},
   "outputs": [],
   "source": [
    "#Test parameters\n",
    "n = 44"
   ]
  },
  {
   "cell_type": "code",
   "execution_count": 38,
   "id": "018d99aa-d930-40fc-90a2-c5e197f7351a",
   "metadata": {},
   "outputs": [
    {
     "name": "stdout",
     "output_type": "stream",
     "text": [
      "The stairs with 44 steps can be climbed in 1836311903 different ways if we do 1 or 2 steps at a time\n"
     ]
    }
   ],
   "source": [
    "#Print the results\n",
    "print(f\"The stairs with {n} steps can be climbed in {Solution().climbStairs(45)} different ways if we do 1 or 2 steps at a time\")"
   ]
  }
 ],
 "metadata": {
  "kernelspec": {
   "display_name": "Python 3 (ipykernel)",
   "language": "python",
   "name": "python3"
  },
  "language_info": {
   "codemirror_mode": {
    "name": "ipython",
    "version": 3
   },
   "file_extension": ".py",
   "mimetype": "text/x-python",
   "name": "python",
   "nbconvert_exporter": "python",
   "pygments_lexer": "ipython3",
   "version": "3.8.18"
  }
 },
 "nbformat": 4,
 "nbformat_minor": 5
}
