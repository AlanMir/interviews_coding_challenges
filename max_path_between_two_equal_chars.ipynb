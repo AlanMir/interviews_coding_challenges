{
 "cells": [
  {
   "cell_type": "code",
   "execution_count": 90,
   "id": "6c463931-f5d0-4824-9466-0eab9f5b89ea",
   "metadata": {},
   "outputs": [],
   "source": [
    "#Find the maxh path between two identical characters\n",
    "#Constraints: only lower cases American alphabet. No special chars.\n",
    "#If no identical characters, -1 is returned\n",
    "\n",
    "#First we create a dictionary with the letters being the keysn and their indexes being the values\n",
    "def max_path_validator(s):\n",
    "    d={}\n",
    "    max_path=None\n",
    "    for index, value in enumerate(s):\n",
    "        if value in d:\n",
    "            d[value].append(index)\n",
    "        else:\n",
    "            d[value]=[index]\n",
    "            \n",
    "#Next, we create a list containing all the paths for letters that actually appear more than once, and \n",
    "#store them in the path_values list\n",
    "    path_values=[]\n",
    "    for key, values in zip(d.keys(),d.values()):\n",
    "        if len(values)==1:\n",
    "            pass\n",
    "        else:\n",
    "            path_value=values[-1]-values[0]\n",
    "            path_values.append(path_value)\n",
    "#Finally, we get the maximum value from the list. If there is no such thing, -1 is returned\n",
    "    try:\n",
    "        max_path=max(path_values)\n",
    "    except:\n",
    "        max_path=-1\n",
    "    return max_path"
   ]
  },
  {
   "cell_type": "code",
   "execution_count": 100,
   "id": "c30863b5-f43c-44c2-a6e3-f02615aa9b3d",
   "metadata": {},
   "outputs": [],
   "source": [
    "#Test string\n",
    "s='abcdddfsa'"
   ]
  },
  {
   "cell_type": "code",
   "execution_count": 101,
   "id": "7e26be9b-c665-40f1-8266-435cf3e4c517",
   "metadata": {},
   "outputs": [
    {
     "name": "stdout",
     "output_type": "stream",
     "text": [
      "The maximum path between two identical characters is  8\n"
     ]
    }
   ],
   "source": [
    "#Print results\n",
    "print(\"The maximum path between two identical characters is \",max_path_validator(s))"
   ]
  }
 ],
 "metadata": {
  "kernelspec": {
   "display_name": "Python 3 (ipykernel)",
   "language": "python",
   "name": "python3"
  },
  "language_info": {
   "codemirror_mode": {
    "name": "ipython",
    "version": 3
   },
   "file_extension": ".py",
   "mimetype": "text/x-python",
   "name": "python",
   "nbconvert_exporter": "python",
   "pygments_lexer": "ipython3",
   "version": "3.8.18"
  }
 },
 "nbformat": 4,
 "nbformat_minor": 5
}
