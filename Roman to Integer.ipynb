{
 "cells": [
  {
   "cell_type": "code",
   "execution_count": null,
   "id": "d75ba920-0e3f-4054-b3ce-d8ccb0a17fc6",
   "metadata": {},
   "outputs": [],
   "source": [
    "\"\"\"\n",
    "Roman numerals are represented by seven different symbols: I, V, X, L, C, D and M.\n",
    "\n",
    "Symbol       Value\n",
    "I             1\n",
    "V             5\n",
    "X             10\n",
    "L             50\n",
    "C             100\n",
    "D             500\n",
    "M             1000\n",
    "For example, 2 is written as II in Roman numeral, just two ones added together. 12 is written as XII, which is simply X + II. The number 27 is written as XXVII, which is XX + V + II.\n",
    "\n",
    "Roman numerals are usually written largest to smallest from left to right. However, the numeral for four is not IIII. Instead, the number four is written as IV. Because the one is before the five we subtract it making four. The same principle applies to the number nine, which is written as IX. There are six instances where subtraction is used:\n",
    "\n",
    "I can be placed before V (5) and X (10) to make 4 and 9. \n",
    "X can be placed before L (50) and C (100) to make 40 and 90. \n",
    "C can be placed before D (500) and M (1000) to make 400 and 900.\n",
    "Given a roman numeral, convert it to an integer.\n",
    "\n",
    "Constraints:\n",
    "\n",
    "1 <= s.length <= 15\n",
    "s contains only the characters ('I', 'V', 'X', 'L', 'C', 'D', 'M').\n",
    "It is guaranteed that s is a valid roman numeral in the range [1, 3999].\n",
    "\"\"\""
   ]
  },
  {
   "cell_type": "code",
   "execution_count": 8,
   "id": "fe172340-ca55-4298-849b-16518b5f3009",
   "metadata": {},
   "outputs": [],
   "source": [
    "def romanToInt(s: str) -> int:\n",
    "    result = 0\n",
    "    values = {'I':1,\n",
    "             'V':5,\n",
    "             'X':10,\n",
    "             'L':50,\n",
    "             'C':100,\n",
    "             'D':500,\n",
    "             'M':1000}\n",
    "    for i in range(len(s)):\n",
    "        result = result + values[s[i]] \n",
    "    for i in range(1,len(s)):\n",
    "        if (s[i]=='V' or s[i]=='X') and s[i-1]=='I':\n",
    "            result = result - 2\n",
    "        elif (s[i]=='L' or s[i]=='C') and s[i-1]=='X':\n",
    "            result = result - 20\n",
    "        elif (s[i]=='D' or s[i]=='M') and s[i-1]=='C':\n",
    "            result = result - 200\n",
    "    return result"
   ]
  },
  {
   "cell_type": "code",
   "execution_count": 11,
   "id": "62717dac-41c0-4dda-bec1-d5d2fa19f62f",
   "metadata": {},
   "outputs": [],
   "source": [
    "#Test parameters\n",
    "s = 'MCMXCIV'"
   ]
  },
  {
   "cell_type": "code",
   "execution_count": 12,
   "id": "08c511f7-031b-43b9-ad9b-b67eee8be6b1",
   "metadata": {},
   "outputs": [
    {
     "name": "stdout",
     "output_type": "stream",
     "text": [
      "1994\n"
     ]
    }
   ],
   "source": [
    "#Print results\n",
    "print(f\"The romanToInt(s)\")"
   ]
  }
 ],
 "metadata": {
  "kernelspec": {
   "display_name": "Python 3 (ipykernel)",
   "language": "python",
   "name": "python3"
  },
  "language_info": {
   "codemirror_mode": {
    "name": "ipython",
    "version": 3
   },
   "file_extension": ".py",
   "mimetype": "text/x-python",
   "name": "python",
   "nbconvert_exporter": "python",
   "pygments_lexer": "ipython3",
   "version": "3.8.18"
  }
 },
 "nbformat": 4,
 "nbformat_minor": 5
}
