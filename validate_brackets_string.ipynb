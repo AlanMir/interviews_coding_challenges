{
 "cells": [
  {
   "cell_type": "code",
   "execution_count": 2,
   "id": "e552cde0-0404-4b73-aff7-53cd5743366e",
   "metadata": {},
   "outputs": [],
   "source": [
    "#Validate sets of brackets\n",
    "#Constraint: once you open a bracket, you close it next\n",
    "def isValid(s):\n",
    "    result = None\n",
    "    counter = 0\n",
    "    #If the length of the string is even, means at least one bracket is not correctly closed, hence the string is invalid\n",
    "    #Or if the last element is an opening bracket, the string is invalid\n",
    "    if (len(s)%2!=0) or (s[-1]==\"(\") or (s[-1]==\"[\") or (s[-1]==\"{\"):\n",
    "            result=\"invalid\"\n",
    "    else:\n",
    "        for i in range(len(s)-1):\n",
    "            #The first element of the string must be an open bracket\n",
    "            if i==0:\n",
    "                if s[i]==\"(\" or s[i]==\"[\" or s[i]==\"{\":\n",
    "                    counter+=1\n",
    "                else:\n",
    "                    break\n",
    "            else:\n",
    "                if (s[i]==\")\" and s[i-1]==\"(\") or (s[i]==\"]\" and s[i-1]==\"[\") or (s[i]==\"}\" and s[i-1]==\"{\"):\n",
    "                    counter+=1\n",
    "                elif (s[i]==\"(\" and s[i+1]==\")\") or (s[i]==\"[\" and s[i+1]==\"]\") or (s[i]==\"{\" and s[i+1]==\"}\"):\n",
    "                    counter+=1\n",
    "                else:\n",
    "                    break\n",
    "        if counter==len(s)-1:\n",
    "            result=\"valid\"\n",
    "        else:\n",
    "            result=\"invalid\"\n",
    "\n",
    "                \n",
    "    return result"
   ]
  },
  {
   "cell_type": "code",
   "execution_count": 3,
   "id": "3fa3d39f-50b0-4153-a19b-dde676b2731f",
   "metadata": {},
   "outputs": [],
   "source": [
    "#Test string. Edit as desired\n",
    "s='([]{}()()()()('"
   ]
  },
  {
   "cell_type": "code",
   "execution_count": 6,
   "id": "a7dac73e-971d-4064-ac11-73ff12c742ab",
   "metadata": {},
   "outputs": [
    {
     "name": "stdout",
     "output_type": "stream",
     "text": [
      "The provided string is invalid\n"
     ]
    }
   ],
   "source": [
    "#Print the validation result\n",
    "print(\"The provided string is\"+\" \"+isValid(s))"
   ]
  }
 ],
 "metadata": {
  "kernelspec": {
   "display_name": "Python 3 (ipykernel)",
   "language": "python",
   "name": "python3"
  },
  "language_info": {
   "codemirror_mode": {
    "name": "ipython",
    "version": 3
   },
   "file_extension": ".py",
   "mimetype": "text/x-python",
   "name": "python",
   "nbconvert_exporter": "python",
   "pygments_lexer": "ipython3",
   "version": "3.8.18"
  }
 },
 "nbformat": 4,
 "nbformat_minor": 5
}
