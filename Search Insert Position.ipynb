{
 "cells": [
  {
   "cell_type": "code",
   "execution_count": 1,
   "id": "173d0e92-b5ca-4d80-bade-7cb5a8bd4cef",
   "metadata": {},
   "outputs": [
    {
     "data": {
      "text/plain": [
       "'\\nGiven a sorted array of distinct integers and a target value, return the index if the target is found. If not, return the index where it would be if it were inserted in order.\\n\\nYou must write an algorithm with O(log n) runtime complexity.\\nConstraints:\\n\\n1 <= nums.length <= 104\\n-104 <= nums[i] <= 104\\nnums contains distinct values sorted in ascending order.\\n-104 <= target <= 104\\n'"
      ]
     },
     "execution_count": 1,
     "metadata": {},
     "output_type": "execute_result"
    }
   ],
   "source": [
    "\"\"\"\n",
    "Given a sorted array of distinct integers and a target value, return the index if the target is found. If not, return the index where it would be if it were inserted in order.\n",
    "\n",
    "You must write an algorithm with O(log n) runtime complexity.\n",
    "Constraints:\n",
    "\n",
    "1 <= nums.length <= 104\n",
    "-104 <= nums[i] <= 104\n",
    "nums contains distinct values sorted in ascending order.\n",
    "-104 <= target <= 104\n",
    "\"\"\"\n"
   ]
  },
  {
   "cell_type": "code",
   "execution_count": 40,
   "id": "c8a2442d-378f-493a-b100-b2d23efef555",
   "metadata": {},
   "outputs": [],
   "source": [
    "from typing import List\n",
    "def searchInsert(nums: List[int], target: int) -> int:\n",
    "        if target in nums:\n",
    "            return nums.index(target)\n",
    "        elif nums[0] > target:\n",
    "            return 0\n",
    "        elif nums[-1] < target:\n",
    "            return len(nums)\n",
    "        else:\n",
    "            for num in nums:\n",
    "                if num > target:\n",
    "                    return nums.index(num)"
   ]
  },
  {
   "cell_type": "code",
   "execution_count": 43,
   "id": "121c57bd-638e-4198-a214-4d32862f28ce",
   "metadata": {},
   "outputs": [],
   "source": [
    "#Test parameters\n",
    "nums = [1,3,5,6] \n",
    "target = 8"
   ]
  },
  {
   "cell_type": "code",
   "execution_count": 44,
   "id": "f5124148-bf45-4d46-80da-da9dd1a84461",
   "metadata": {},
   "outputs": [
    {
     "name": "stdout",
     "output_type": "stream",
     "text": [
      "Target not in nums. If added, it would be at index 4\n"
     ]
    }
   ],
   "source": [
    "#Print the results\n",
    "if target in nums:\n",
    "    print(f\"The corresponding index for the target in  nums is: {searchInsert(nums, target)}\")\n",
    "else :\n",
    "    print(f\"Target not in nums. If added, it would be at index {searchInsert(nums, target)}\")\n",
    "            "
   ]
  }
 ],
 "metadata": {
  "kernelspec": {
   "display_name": "Python 3 (ipykernel)",
   "language": "python",
   "name": "python3"
  },
  "language_info": {
   "codemirror_mode": {
    "name": "ipython",
    "version": 3
   },
   "file_extension": ".py",
   "mimetype": "text/x-python",
   "name": "python",
   "nbconvert_exporter": "python",
   "pygments_lexer": "ipython3",
   "version": "3.8.18"
  }
 },
 "nbformat": 4,
 "nbformat_minor": 5
}
