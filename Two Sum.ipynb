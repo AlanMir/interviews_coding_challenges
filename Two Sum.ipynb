{
 "cells": [
  {
   "cell_type": "code",
   "execution_count": null,
   "id": "781e8a35-2b8b-4317-8aca-4a545fa4d0bf",
   "metadata": {},
   "outputs": [],
   "source": [
    "\"\"\"\n",
    "Given an array of integers nums and an integer target, return indices of the two numbers such that they add up to target.\n",
    "\n",
    "You may assume that each input would have exactly one solution, and you may not use the same element twice.\n",
    "\n",
    "You can return the answer in any order.\n",
    "\"\"\""
   ]
  },
  {
   "cell_type": "code",
   "execution_count": 63,
   "id": "61c2e720-f0ce-410d-9a31-73de324f953a",
   "metadata": {},
   "outputs": [],
   "source": [
    "from typing import List\n",
    "def twoSum(nums: List[int], target: int) -> List[int]:\n",
    "    result = []\n",
    "    for i in range(len(nums)):\n",
    "        for j in range(i + 1, len(nums)):\n",
    "            if nums[i] + nums[j] == target:\n",
    "                result.extend([i, j])\n",
    "                return result\n",
    "    return result"
   ]
  },
  {
   "cell_type": "code",
   "execution_count": 64,
   "id": "65484516-712b-482f-8d19-bc30fb619765",
   "metadata": {},
   "outputs": [],
   "source": [
    "#Test parameters\n",
    "nums = [2,5,5,11]\n",
    "target = 10"
   ]
  },
  {
   "cell_type": "code",
   "execution_count": 65,
   "id": "0dd7c3f5-f1e1-4bdb-9e37-1ef0f97b8710",
   "metadata": {},
   "outputs": [
    {
     "name": "stdout",
     "output_type": "stream",
     "text": [
      "The indexes of the two numbers are [1, 2]\n"
     ]
    }
   ],
   "source": [
    "#Print results\n",
    "print(f\"The indexes of the two numbers are {twoSum(nums,target)}\")"
   ]
  },
  {
   "cell_type": "code",
   "execution_count": null,
   "id": "b1a77c08-f18a-43a5-ad19-c09f25118e92",
   "metadata": {},
   "outputs": [],
   "source": []
  }
 ],
 "metadata": {
  "kernelspec": {
   "display_name": "Python 3 (ipykernel)",
   "language": "python",
   "name": "python3"
  },
  "language_info": {
   "codemirror_mode": {
    "name": "ipython",
    "version": 3
   },
   "file_extension": ".py",
   "mimetype": "text/x-python",
   "name": "python",
   "nbconvert_exporter": "python",
   "pygments_lexer": "ipython3",
   "version": "3.8.18"
  }
 },
 "nbformat": 4,
 "nbformat_minor": 5
}
